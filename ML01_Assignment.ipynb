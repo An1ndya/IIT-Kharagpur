{
  "nbformat": 4,
  "nbformat_minor": 0,
  "metadata": {
    "colab": {
      "name": "ML01-Assignment.ipynb",
      "provenance": [],
      "authorship_tag": "ABX9TyPhEIopJrp5eU8wetd5RnrM",
      "include_colab_link": true
    },
    "kernelspec": {
      "name": "python3",
      "display_name": "Python 3"
    },
    "language_info": {
      "name": "python"
    }
  },
  "cells": [
    {
      "cell_type": "markdown",
      "metadata": {
        "id": "view-in-github",
        "colab_type": "text"
      },
      "source": [
        "<a href=\"https://colab.research.google.com/github/An1ndya/IIT-Kharagpur/blob/main/ML01_Assignment.ipynb\" target=\"_parent\"><img src=\"https://colab.research.google.com/assets/colab-badge.svg\" alt=\"Open In Colab\"/></a>"
      ]
    },
    {
      "cell_type": "markdown",
      "source": [
        "1. Write a program to compute and print the taxi fare based on the following chart. Total number of Kilometers \n",
        "traveled will be input by the user.\n",
        "First 12 KM: Rs. 100/-\n",
        "Next 4 KM: Rs. 8 / KM\n",
        "Next 4 KM: Rs. 6 / KM\n",
        "Above 20 KM: Rs. 5 / KM\n"
      ],
      "metadata": {
        "id": "Vu3zQ7z0rz3w"
      }
    },
    {
      "cell_type": "code",
      "execution_count": null,
      "metadata": {
        "colab": {
          "base_uri": "https://localhost:8080/"
        },
        "id": "6sd8_idnrcKt",
        "outputId": "f6f68e57-a049-4992-bd0f-3c9bc713be6d"
      },
      "outputs": [
        {
          "output_type": "stream",
          "name": "stdout",
          "text": [
            "13\n",
            "108\n"
          ]
        }
      ],
      "source": [
        "\n",
        "x=int(input())\n",
        "\n",
        "y= 100\n",
        "\n",
        "if   x>20 : y+= 5*(x-20)+4*6+4*8\n",
        "elif x>16 : y+= 6*(x-16)+4*8\n",
        "elif x>12 : y+= 8*(x-12)\n",
        "elif x==0 : y=0\n",
        "\n",
        "print(y)"
      ]
    },
    {
      "cell_type": "markdown",
      "source": [
        "2. Acceleration due to gravity of a celestial object of mass M and radius R is given by\n",
        "𝑔𝑔 = 𝐺𝐺\n",
        "𝑀𝑀\n",
        "𝑅𝑅2\n",
        "Calculate and print the values of g’s for the earth and moon, given that\n",
        "● Mass of the earth = 5.972 × 1024 kg\n",
        "● Radius of the earth = 6361 km\n",
        "● Mass of the moon = 7.35 x 1022 kg\n",
        "● Radius of the moon = 1737 km\n",
        "● Assume the value of Newton’s constant G as 6.67408×10−11 m3\n",
        "⋅kg−1\n",
        "⋅s\n",
        "−2\n"
      ],
      "metadata": {
        "id": "Z54q-e55rxxR"
      }
    },
    {
      "cell_type": "code",
      "source": [
        "def gravity(m,r):\n",
        "  gc = 6.67408*10e-11\n",
        "  return gc*m/(r*r)\n",
        "mE = 5.972 * 10e24\n",
        "rE = 6361 * 10e3\n",
        "mM = 7.35 * 10e22\n",
        "rM = 1737 * 10e3\n",
        "print(\"Earth's g:\", gravity(mE,rE))\n",
        "print(\"Moon's g:\", gravity(mM,rM))"
      ],
      "metadata": {
        "colab": {
          "base_uri": "https://localhost:8080/"
        },
        "id": "mcLRA4Q5wwFV",
        "outputId": "c8611e0e-7824-462f-dab1-7a228a3a63c0"
      },
      "execution_count": null,
      "outputs": [
        {
          "output_type": "stream",
          "name": "stdout",
          "text": [
            "Earth's g: 9.850548553554308\n",
            "Moon's g: 1.6258448896962683\n"
          ]
        }
      ]
    },
    {
      "cell_type": "markdown",
      "source": [
        "3. Write a program to find the sum of the following series for a given value of n.\n",
        "𝑆𝑆 = 1 − 1\n",
        "3 +\n",
        "1\n",
        "32 − 1\n",
        "33 + ⋯ (−1)𝑛𝑛 1\n",
        "3𝑛𝑛\n",
        "Your program should take n as input from the user and print the sum."
      ],
      "metadata": {
        "id": "bkLkC3WV1SfE"
      }
    },
    {
      "cell_type": "code",
      "source": [
        "n =int(input())\n",
        "s=0\n",
        "a=1\n",
        "r=3\n",
        "s=sn=s0=1\n",
        "for i in range(1,n+1):\n",
        "  sn /= -r\n",
        "  s+=sn\n",
        "print(s)"
      ],
      "metadata": {
        "colab": {
          "base_uri": "https://localhost:8080/"
        },
        "id": "PamFEff01Xnc",
        "outputId": "a39a9c46-d793-4b1f-8412-e13536a58a46"
      },
      "execution_count": null,
      "outputs": [
        {
          "output_type": "stream",
          "name": "stdout",
          "text": [
            "5\n",
            "0.7489711934156381\n"
          ]
        }
      ]
    },
    {
      "cell_type": "markdown",
      "source": [
        "4. An Armstrong number is the number which is the sum of the cubes of all its units, tens and hundred digits, etc. \n",
        "For example, for a three-digit number 153,\n",
        "153 = 1 ∗ 1 ∗ 1 + 5 ∗ 5 ∗ 5 + 3 ∗ 3 ∗ 3 = 1 + 125 + 27 = 153\n",
        "For a four-digit number 1634,\n",
        "1634 = 1 ∗ 1 ∗ 1 ∗ 1 + 6 ∗ 6 ∗ 6 ∗ 6 + 3 ∗ 3 ∗ 3 ∗ 3 + 4 ∗ 4 ∗ 4 ∗ 4 = 1 + 1296 + 81 + 256 = 1634\n",
        "Write a Python Program to check if the user entered number is Armstrong number or not."
      ],
      "metadata": {
        "id": "oivIO8lZ4C-m"
      }
    },
    {
      "cell_type": "code",
      "source": [
        "n =int(input())\n",
        "k=n\n",
        "sum=0\n",
        "c=0\n",
        "while k > 0:\n",
        "  k = int(k/10)\n",
        "  c+=1\n",
        "k=n\n",
        "while k > 0:\n",
        "  mod = k%10\n",
        "  k = int(k/10)\n",
        "  sum += mod**c\n",
        "if sum==n : print(n,\" is an Armstrong number.\")\n",
        "else : print(n,\" is Not an Armstrong number.\")"
      ],
      "metadata": {
        "colab": {
          "base_uri": "https://localhost:8080/"
        },
        "id": "ubpcEDGy4S9w",
        "outputId": "83872270-d4f9-400d-ec07-e5b7d5bad81e"
      },
      "execution_count": null,
      "outputs": [
        {
          "output_type": "stream",
          "name": "stdout",
          "text": [
            "153\n",
            "153  is an Armstrong number.\n"
          ]
        }
      ]
    },
    {
      "cell_type": "markdown",
      "source": [
        "5. A number is called Harshad number (also called Niven number) if the number is divisible by the sum of its digits. \n",
        "For example, 210 is a Harshad number because 210 is divisible by the sum of its digits (2 + 1 + 0 = 3). Write a \n",
        "program which will print the first 10 Harshad numbers with n-digits. The number n will be known at the time of \n",
        "running your program. "
      ],
      "metadata": {
        "id": "0e5TvgoB9mHS"
      }
    },
    {
      "cell_type": "code",
      "source": [
        "def isNiven(n):\n",
        "  k=n\n",
        "  sum=0\n",
        "  while k>0:\n",
        "    sum+=k%10\n",
        "    k=int(k/10)\n",
        "  return n%sum==0\n",
        "\n",
        "n=int(input())\n",
        "c=0\n",
        "a=10**(n-1)\n",
        "max=9**n\n",
        "while c<10 and a<=max:\n",
        "  if isNiven(a) :\n",
        "    print(a)\n",
        "    c+=1\n",
        "  a+=1"
      ],
      "metadata": {
        "colab": {
          "base_uri": "https://localhost:8080/"
        },
        "id": "cVOxbiiG9mwx",
        "outputId": "ab9372d7-a297-40db-a872-dab1e2fbbec6"
      },
      "execution_count": null,
      "outputs": [
        {
          "output_type": "stream",
          "name": "stdout",
          "text": [
            "2\n",
            "10\n",
            "12\n",
            "18\n",
            "20\n",
            "21\n",
            "24\n",
            "27\n",
            "30\n",
            "36\n",
            "40\n"
          ]
        }
      ]
    },
    {
      "cell_type": "markdown",
      "source": [
        "6. Write a Python Program to find whether a string or number is palindrome or not, and print the decision as output."
      ],
      "metadata": {
        "id": "IsqNRlC9FfxW"
      }
    },
    {
      "cell_type": "code",
      "source": [
        "str = input()\n",
        "n = len(str)\n",
        "isPalindrome = True\n",
        "for i in range(0,int(n/2)):\n",
        "  if str[i]!=str[n-1-i]:\n",
        "    isPalindrome = False  \n",
        "    break\n",
        "    \n",
        "if isPalindrome : print(str, \"is a Palindrome\")\n",
        "else: print(str, \"is Not a palindrome\")\n"
      ],
      "metadata": {
        "colab": {
          "base_uri": "https://localhost:8080/"
        },
        "id": "nB1xV2hPFjo3",
        "outputId": "8cd6750c-1279-4290-eeb1-47f584bff409"
      },
      "execution_count": null,
      "outputs": [
        {
          "output_type": "stream",
          "name": "stdout",
          "text": [
            "123321\n",
            "123321 is a Palindrome\n"
          ]
        }
      ]
    },
    {
      "cell_type": "markdown",
      "source": [
        "7. Evaluate the expression of Tp, and print the result.\n",
        "𝑇𝑇𝑝𝑝 = 𝑇𝑇𝑠𝑠\n",
        "�𝑅𝑅𝑠𝑠�1−∝\n",
        "𝜎𝜎\n",
        "2𝐷𝐷\n",
        "Where, 𝛼𝛼 = 0.306, 𝑇𝑇𝑇𝑇 = 6.96 × 108 𝑚𝑚, 𝑅𝑅𝑅𝑅 = 6.96 × 108 𝑚𝑚, 𝐷𝐷 = 1.496 × 1011 𝑚𝑚 𝑎𝑎𝑎𝑎𝑎𝑎 𝜎𝜎 = 1.2"
      ],
      "metadata": {
        "id": "3QIyGHJoHZI9"
      }
    },
    {
      "cell_type": "code",
      "source": [
        "import math\n",
        "a  =.306\n",
        "Ts = 6.96*10e8\n",
        "Rs = 6.96*10e8\n",
        "D  = 1.496*10e11\n",
        "s  = 1.2\n",
        "\n",
        "Tp = math.sqrt(Rs*math.sqrt((1-a)/s)/(2*D))\n",
        "\n",
        "print(Tp)\n"
      ],
      "metadata": {
        "id": "tZ9oSn6yHZ0b",
        "colab": {
          "base_uri": "https://localhost:8080/"
        },
        "outputId": "52c5328c-de1a-4c0f-9587-4a872d5d3eea"
      },
      "execution_count": 1,
      "outputs": [
        {
          "output_type": "stream",
          "name": "stdout",
          "text": [
            "0.04205991409322086\n"
          ]
        }
      ]
    },
    {
      "cell_type": "markdown",
      "source": [
        "8. Symmetric matrix is a square matrix which is equal to its transpose. If 𝐴𝐴[][] is a square matrix with (𝑛𝑛 𝑥𝑥 𝑛𝑛) order, \n",
        "then this matrix is said to be symmetric if every element at 𝑖𝑖\n",
        "𝑡𝑡ℎ row and 𝑗𝑗𝑡𝑡ℎ column is equal to element at 𝑗𝑗𝑡𝑡ℎ row \n",
        "and 𝑖𝑖\n",
        "𝑡𝑡ℎ column, that is, 𝐴𝐴[𝑖𝑖][𝑗𝑗] == 𝐴𝐴[𝑗𝑗][𝑖𝑖]. Your program should take the input matrix from the user, display it \n",
        "and check whether the matrix is symmetric or not"
      ],
      "metadata": {
        "id": "MmALxzx6-asu"
      }
    },
    {
      "cell_type": "code",
      "source": [
        "r = int(input(\"Enter the number of rows: \"))\n",
        "c = int(input(\"Enter the number of columns: \"))  \n",
        "# Initialize matrix\n",
        "mat= []\n",
        "print(\"Enter the entries rowwise:\")\n",
        "for i in range(r):         \n",
        "    a =[]\n",
        "    for j in range(c):    \n",
        "         a.append(int(input()))\n",
        "    mat.append(a)\n",
        "\n",
        "isSymmetric = True\n",
        "\n",
        "if r==c:\n",
        "  for i in range(0,r):\n",
        "    for j in range(0,c):\n",
        "      if mat[i][j]!=mat[j][i]:\n",
        "        isSymmetric = False\n",
        "        break\n",
        "else:\n",
        "  isSymmetric = False\n",
        "\n",
        "if isSymmetric : print(mat, \"is a Symmetric matrix\")\n",
        "else : print(mat, \"is Not a Symmetric matrix\")"
      ],
      "metadata": {
        "colab": {
          "base_uri": "https://localhost:8080/"
        },
        "id": "R9C5qWzGAAbs",
        "outputId": "c8c2a95b-fafc-425b-e21c-c4c8dd03db15"
      },
      "execution_count": 13,
      "outputs": [
        {
          "output_type": "stream",
          "name": "stdout",
          "text": [
            "Enter the number of rows: 2\n",
            "Enter the number of columns: 2\n",
            "Enter the entries rowwise:\n",
            "1\n",
            "2\n",
            "2\n",
            "1\n",
            "[[1, 2], [2, 1]] is a Symmetric matrix\n"
          ]
        }
      ]
    },
    {
      "cell_type": "markdown",
      "source": [
        "9. Saddle point of a matrix is an element in the matrix which is smallest in its row and largest in its column. For \n",
        "example, in the following matrix, 7 is the saddle point at (2,2).\n",
        "6 3 1\n",
        "9 7 8\n",
        "2 4 5\n",
        "Write a program to find all the saddle point in a given matrix"
      ],
      "metadata": {
        "id": "iXGP1qheI1MB"
      }
    },
    {
      "cell_type": "code",
      "source": [
        "import sys\n",
        "r = int(input(\"Enter the number of rows: \"))\n",
        "c = int(input(\"Enter the number of columns: \"))  \n",
        "# Initialize matrix\n",
        "mat= []\n",
        "print(\"Enter the entries rowwise:\")\n",
        "for i in range(r):         \n",
        "  a =[]\n",
        "  for j in range(c):    \n",
        "        a.append(int(input()))\n",
        "  mat.append(a)\n",
        "\n",
        "rowMinIndexofC = []\n",
        "for i in range(r): \n",
        "  rowMinIndexofC.append(-1)\n",
        "  min= int(sys.maxsize)\n",
        "  for j in range(c):    \n",
        "    if mat[i][j]<min: \n",
        "      min = mat[i][j]\n",
        "      rowMinIndexofC[i]=j\n",
        "\n",
        "colMaxIndexofR = []\n",
        "for j in range(c): \n",
        "  colMaxIndexofR.append(-1)\n",
        "  max= -int(sys.maxsize)\n",
        "  for i in range(r):    \n",
        "    if mat[i][j]>max: \n",
        "      max = mat[i][j]\n",
        "      colMaxIndexofR[j]=i\n",
        "count = 1\n",
        "for i in range(r):         \n",
        "  for j in range(c): \n",
        "    if i==colMaxIndexofR[j] and j == rowMinIndexofC[i] :\n",
        "      print(\"saddle point \",count, \": (\", i+1,j+1, \")\")\n",
        "      count+=1\n",
        "      "
      ],
      "metadata": {
        "colab": {
          "base_uri": "https://localhost:8080/"
        },
        "id": "EqEdmEUCI7zl",
        "outputId": "9ff95767-2a28-4cc6-880d-11c48900f264"
      },
      "execution_count": 25,
      "outputs": [
        {
          "output_type": "stream",
          "name": "stdout",
          "text": [
            "Enter the number of rows: 3\n",
            "Enter the number of columns: 3\n",
            "Enter the entries rowwise:\n",
            "6\n",
            "3\n",
            "1\n",
            "9\n",
            "7\n",
            "8\n",
            "2\n",
            "4\n",
            "5\n",
            "saddle point  1 : ( 2 2 )\n"
          ]
        }
      ]
    },
    {
      "cell_type": "markdown",
      "source": [
        "10. A ball is released from a height of h meters. Each time it bounces on the floor, its velocity becomes halved. Write \n",
        "a program, which takes the value of h and then prints the total distance traversed by the ball when it touches the \n",
        "ground for the nth time. Assume that the value of acceleration due to gravity, g is 9.8 m/sec2\n",
        "."
      ],
      "metadata": {
        "id": "M4nMrXDTTBJR"
      }
    },
    {
      "cell_type": "code",
      "source": [
        "import math\n",
        "h=float(input(\"value of h: \"))\n",
        "n=int(input(\"value of n: \"))\n",
        "g= 9.8\n",
        "d= 0.0\n",
        "v= 0.0\n",
        "if n>0 : d=h\n",
        "if n>1 :\n",
        "  #v = math.sqrt(2*g*h)\n",
        "  #h=h/4 as v=v/2\n",
        "  for i in range(2,n+1):\n",
        "    h=h/4\n",
        "    d+=2*h\n",
        "\n",
        "print(\"distance: \",d)"
      ],
      "metadata": {
        "colab": {
          "base_uri": "https://localhost:8080/"
        },
        "id": "ftXjk4y8TGSt",
        "outputId": "b0d4feb8-b803-443a-8e7b-8cf2a01ac3bb"
      },
      "execution_count": 33,
      "outputs": [
        {
          "output_type": "stream",
          "name": "stdout",
          "text": [
            "value of h:9.8\n",
            "value of n:4\n",
            "distance:  16.23125\n"
          ]
        }
      ]
    }
  ]
}
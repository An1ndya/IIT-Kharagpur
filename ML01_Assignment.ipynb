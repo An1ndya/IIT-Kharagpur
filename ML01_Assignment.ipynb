{
  "nbformat": 4,
  "nbformat_minor": 0,
  "metadata": {
    "colab": {
      "name": "ML01-Assignment.ipynb",
      "provenance": [],
      "authorship_tag": "ABX9TyMm5H9z4e5ar7cKs/2CclO7",
      "include_colab_link": true
    },
    "kernelspec": {
      "name": "python3",
      "display_name": "Python 3"
    },
    "language_info": {
      "name": "python"
    }
  },
  "cells": [
    {
      "cell_type": "markdown",
      "metadata": {
        "id": "view-in-github",
        "colab_type": "text"
      },
      "source": [
        "<a href=\"https://colab.research.google.com/github/An1ndya/IIT-Kharagpur/blob/main/ML01_Assignment.ipynb\" target=\"_parent\"><img src=\"https://colab.research.google.com/assets/colab-badge.svg\" alt=\"Open In Colab\"/></a>"
      ]
    },
    {
      "cell_type": "markdown",
      "source": [
        "1. Write a program to compute and print the taxi fare based on the following chart. Total number of Kilometers \n",
        "traveled will be input by the user.\n",
        "First 12 KM: Rs. 100/-\n",
        "Next 4 KM: Rs. 8 / KM\n",
        "Next 4 KM: Rs. 6 / KM\n",
        "Above 20 KM: Rs. 5 / KM\n"
      ],
      "metadata": {
        "id": "Vu3zQ7z0rz3w"
      }
    },
    {
      "cell_type": "code",
      "execution_count": 8,
      "metadata": {
        "colab": {
          "base_uri": "https://localhost:8080/"
        },
        "id": "6sd8_idnrcKt",
        "outputId": "f6f68e57-a049-4992-bd0f-3c9bc713be6d"
      },
      "outputs": [
        {
          "output_type": "stream",
          "name": "stdout",
          "text": [
            "13\n",
            "108\n"
          ]
        }
      ],
      "source": [
        "\n",
        "x=int(input())\n",
        "\n",
        "y= 100\n",
        "\n",
        "if   x>20 : y+= 5*(x-20)+4*6+4*8\n",
        "elif x>16 : y+= 6*(x-16)+4*8\n",
        "elif x>12 : y+= 8*(x-12)\n",
        "elif x==0 : y=0\n",
        "\n",
        "print(y)"
      ]
    },
    {
      "cell_type": "markdown",
      "source": [
        "2. Acceleration due to gravity of a celestial object of mass M and radius R is given by\n",
        "𝑔𝑔 = 𝐺𝐺\n",
        "𝑀𝑀\n",
        "𝑅𝑅2\n",
        "Calculate and print the values of g’s for the earth and moon, given that\n",
        "● Mass of the earth = 5.972 × 1024 kg\n",
        "● Radius of the earth = 6361 km\n",
        "● Mass of the moon = 7.35 x 1022 kg\n",
        "● Radius of the moon = 1737 km\n",
        "● Assume the value of Newton’s constant G as 6.67408×10−11 m3\n",
        "⋅kg−1\n",
        "⋅s\n",
        "−2\n"
      ],
      "metadata": {
        "id": "Z54q-e55rxxR"
      }
    },
    {
      "cell_type": "code",
      "source": [
        "def gravity(m,r):\n",
        "  gc = 6.67408*10e-11\n",
        "  return gc*m/(r*r)\n",
        "mE = 5.972 * 10e24\n",
        "rE = 6361 * 10e3\n",
        "mM = 7.35 * 10e22\n",
        "rM = 1737 * 10e3\n",
        "print(\"Earth's g:\", gravity(mE,rE))\n",
        "print(\"Moon's g:\", gravity(mM,rM))"
      ],
      "metadata": {
        "colab": {
          "base_uri": "https://localhost:8080/"
        },
        "id": "mcLRA4Q5wwFV",
        "outputId": "c8611e0e-7824-462f-dab1-7a228a3a63c0"
      },
      "execution_count": 10,
      "outputs": [
        {
          "output_type": "stream",
          "name": "stdout",
          "text": [
            "Earth's g: 9.850548553554308\n",
            "Moon's g: 1.6258448896962683\n"
          ]
        }
      ]
    },
    {
      "cell_type": "markdown",
      "source": [
        "3. Write a program to find the sum of the following series for a given value of n.\n",
        "𝑆𝑆 = 1 − 1\n",
        "3 +\n",
        "1\n",
        "32 − 1\n",
        "33 + ⋯ (−1)𝑛𝑛 1\n",
        "3𝑛𝑛\n",
        "Your program should take n as input from the user and print the sum."
      ],
      "metadata": {
        "id": "bkLkC3WV1SfE"
      }
    },
    {
      "cell_type": "code",
      "source": [
        "n =int(input())\n",
        "s=0\n",
        "a=1\n",
        "r=3\n",
        "s=sn=s0=1\n",
        "for i in range(1,n+1):\n",
        "  sn /= -r\n",
        "  s+=sn\n",
        "print(s)"
      ],
      "metadata": {
        "colab": {
          "base_uri": "https://localhost:8080/"
        },
        "id": "PamFEff01Xnc",
        "outputId": "a39a9c46-d793-4b1f-8412-e13536a58a46"
      },
      "execution_count": 23,
      "outputs": [
        {
          "output_type": "stream",
          "name": "stdout",
          "text": [
            "5\n",
            "0.7489711934156381\n"
          ]
        }
      ]
    },
    {
      "cell_type": "markdown",
      "source": [
        "4. An Armstrong number is the number which is the sum of the cubes of all its units, tens and hundred digits, etc. \n",
        "For example, for a three-digit number 153,\n",
        "153 = 1 ∗ 1 ∗ 1 + 5 ∗ 5 ∗ 5 + 3 ∗ 3 ∗ 3 = 1 + 125 + 27 = 153\n",
        "For a four-digit number 1634,\n",
        "1634 = 1 ∗ 1 ∗ 1 ∗ 1 + 6 ∗ 6 ∗ 6 ∗ 6 + 3 ∗ 3 ∗ 3 ∗ 3 + 4 ∗ 4 ∗ 4 ∗ 4 = 1 + 1296 + 81 + 256 = 1634\n",
        "Write a Python Program to check if the user entered number is Armstrong number or not."
      ],
      "metadata": {
        "id": "oivIO8lZ4C-m"
      }
    },
    {
      "cell_type": "code",
      "source": [
        "n =int(input())\n",
        "k=n\n",
        "sum=0\n",
        "c=0\n",
        "while k > 0:\n",
        "  k = int(k/10)\n",
        "  c+=1\n",
        "k=n\n",
        "while k > 0:\n",
        "  mod = k%10\n",
        "  k = int(k/10)\n",
        "  sum += mod**c\n",
        "if sum==n : print(n,\" is an Armstrong number.\")\n",
        "else : print(n,\" is Not an Armstrong number.\")"
      ],
      "metadata": {
        "colab": {
          "base_uri": "https://localhost:8080/"
        },
        "id": "ubpcEDGy4S9w",
        "outputId": "83872270-d4f9-400d-ec07-e5b7d5bad81e"
      },
      "execution_count": 33,
      "outputs": [
        {
          "output_type": "stream",
          "name": "stdout",
          "text": [
            "153\n",
            "153  is an Armstrong number.\n"
          ]
        }
      ]
    },
    {
      "cell_type": "markdown",
      "source": [
        "5. A number is called Harshad number (also called Niven number) if the number is divisible by the sum of its digits. \n",
        "For example, 210 is a Harshad number because 210 is divisible by the sum of its digits (2 + 1 + 0 = 3). Write a \n",
        "program which will print the first 10 Harshad numbers with n-digits. The number n will be known at the time of \n",
        "running your program. "
      ],
      "metadata": {
        "id": "0e5TvgoB9mHS"
      }
    },
    {
      "cell_type": "code",
      "source": [
        "def isNiven(n):\n",
        "  k=n\n",
        "  sum=0\n",
        "  while k>0:\n",
        "    sum+=k%10\n",
        "    k=int(k/10)\n",
        "  return n%sum==0\n",
        "\n",
        "n=int(input())\n",
        "c=0\n",
        "a=10**(n-1)\n",
        "max=9**n\n",
        "while c<10 and a<=max:\n",
        "  if isNiven(a) :\n",
        "    print(a)\n",
        "    c+=1\n",
        "  a+=1"
      ],
      "metadata": {
        "colab": {
          "base_uri": "https://localhost:8080/"
        },
        "id": "cVOxbiiG9mwx",
        "outputId": "ab9372d7-a297-40db-a872-dab1e2fbbec6"
      },
      "execution_count": 43,
      "outputs": [
        {
          "output_type": "stream",
          "name": "stdout",
          "text": [
            "2\n",
            "10\n",
            "12\n",
            "18\n",
            "20\n",
            "21\n",
            "24\n",
            "27\n",
            "30\n",
            "36\n",
            "40\n"
          ]
        }
      ]
    }
  ]
}
{
  "nbformat": 4,
  "nbformat_minor": 0,
  "metadata": {
    "colab": {
      "provenance": [],
      "authorship_tag": "ABX9TyMJkxHJY+Cd1GvxThcB1pYi",
      "include_colab_link": true
    },
    "kernelspec": {
      "name": "python3",
      "display_name": "Python 3"
    },
    "language_info": {
      "name": "python"
    }
  },
  "cells": [
    {
      "cell_type": "markdown",
      "metadata": {
        "id": "view-in-github",
        "colab_type": "text"
      },
      "source": [
        "<a href=\"https://colab.research.google.com/github/An1ndya/IIT-Kharagpur/blob/main/ML02Assignment.ipynb\" target=\"_parent\"><img src=\"https://colab.research.google.com/assets/colab-badge.svg\" alt=\"Open In Colab\"/></a>"
      ]
    },
    {
      "cell_type": "markdown",
      "source": [
        "Question 1. Create a 2-D numpy array with following entries, and print the values. \n",
        "1\t4\t7\n",
        "2\t6\t12\n",
        "3\t8\t17\n"
      ],
      "metadata": {
        "id": "3eUO7EvE9LdW"
      }
    },
    {
      "cell_type": "code",
      "execution_count": null,
      "metadata": {
        "colab": {
          "base_uri": "https://localhost:8080/"
        },
        "id": "i91PR-Iw4Ylv",
        "outputId": "30d35bfc-e204-4b24-93c4-6a146fa3f903"
      },
      "outputs": [
        {
          "output_type": "stream",
          "name": "stdout",
          "text": [
            "[[ 1  4  7]\n",
            " [ 2  6 12]\n",
            " [ 3  8 17]]\n"
          ]
        }
      ],
      "source": [
        "import numpy as np\n",
        "nparray = np.array([[1,4,7],[2,6,12],[3,8,17]])\n",
        "print(nparray)"
      ]
    },
    {
      "cell_type": "markdown",
      "source": [
        "1: i.\tSave the array into a text file named dummy2Darray.txt"
      ],
      "metadata": {
        "id": "7YnPqau39Kee"
      }
    },
    {
      "cell_type": "code",
      "source": [
        "file = open(\"dummy2Darray.txt\", \"w+\")\n",
        " \n",
        "# Saving the array in a text file\n",
        "content = str(nparray)\n",
        "file.write(content)\n",
        "file.close()"
      ],
      "metadata": {
        "id": "FfTxthfN-w-C"
      },
      "execution_count": null,
      "outputs": []
    },
    {
      "cell_type": "markdown",
      "source": [
        "1: ii.\tRead the text file into another 2D array using numpy."
      ],
      "metadata": {
        "id": "3nj_Yh09_ljk"
      }
    },
    {
      "cell_type": "code",
      "source": [
        "# Displaying the contents of the text file\n",
        "file = open(\"dummy2Darray.txt\", \"r\")\n",
        "content = file.read()\n",
        "file.close()\n",
        "nparray2 = np.array(content)\n",
        "print(nparray2)"
      ],
      "metadata": {
        "colab": {
          "base_uri": "https://localhost:8080/"
        },
        "id": "1XdmT8zO_ppM",
        "outputId": "65bc53f4-d312-4a71-e766-2ffd6ec9c42d"
      },
      "execution_count": null,
      "outputs": [
        {
          "output_type": "stream",
          "name": "stdout",
          "text": [
            "[[ 1  4  7]\n",
            " [ 2  6 12]\n",
            " [ 3  8 17]]\n"
          ]
        }
      ]
    },
    {
      "cell_type": "markdown",
      "source": [
        "1: iii.\t Alter the values of the second row as the square of the corresponding entries of the first row, i.e., the second row will be the square of  (1,4,7),that is (1,16,49)  "
      ],
      "metadata": {
        "id": "S-TCikjSATds"
      }
    },
    {
      "cell_type": "code",
      "source": [
        "#from nparray import nparray  \n",
        "r =len(nparray)\n",
        "c =len(nparray[0])\n",
        "for j in range(c):\n",
        "  nparray[1,j] = (nparray[0,j])*(nparray[0,j])\n",
        "print(nparray)"
      ],
      "metadata": {
        "colab": {
          "base_uri": "https://localhost:8080/"
        },
        "id": "T7fa5wAaAbyk",
        "outputId": "c4021a6d-791a-43fe-b861-73340cc54559"
      },
      "execution_count": null,
      "outputs": [
        {
          "output_type": "stream",
          "name": "stdout",
          "text": [
            "[[ 1  4  7]\n",
            " [ 1 16 49]\n",
            " [ 3  8 17]]\n"
          ]
        }
      ]
    },
    {
      "cell_type": "markdown",
      "source": [
        "1: iv.\tPlot the values of the first and second rows of the modified matrix as a line graph using Matplotlib, such that the first row will be the x-values, and the second row will be the corresponding y-values. (x=[1,4,7],y=[1,16,49], so, the line graph will look like a parabola)"
      ],
      "metadata": {
        "id": "6kTi5nVaTHw5"
      }
    },
    {
      "cell_type": "code",
      "source": [
        "import matplotlib.pyplot as plt\n",
        "x=nparray[0]\n",
        "y=nparray[1]\n",
        "plt.scatter(x, y)"
      ],
      "metadata": {
        "colab": {
          "base_uri": "https://localhost:8080/",
          "height": 282
        },
        "id": "cwFrtTO7TM0l",
        "outputId": "8b963aa9-776c-4849-886f-58875b17374d"
      },
      "execution_count": null,
      "outputs": [
        {
          "output_type": "execute_result",
          "data": {
            "text/plain": [
              "<matplotlib.collections.PathCollection at 0x7f2ec71ee7d0>"
            ]
          },
          "metadata": {},
          "execution_count": 20
        },
        {
          "output_type": "display_data",
          "data": {
            "text/plain": [
              "<Figure size 432x288 with 1 Axes>"
            ],
            "image/png": "[encoded data removed]"
          },
          "metadata": {
            "needs_background": "light"
          }
        }
      ]
    },
    {
      "cell_type": "markdown",
      "source": [
        "Question 2:  \n",
        "Consider the 2D array provided in question 1. Read three integer values from user, and check if these three values match with any row or any column of the given 2D array. If yes, print the row/column number, else print -1.\n"
      ],
      "metadata": {
        "id": "PQzWaApiT1q0"
      }
    },
    {
      "cell_type": "code",
      "source": [
        "import numpy as np\n",
        "nparray = np.array([[1,4,7],[2,6,12],[3,8,17]])\n",
        "r =len(nparray)\n",
        "c =len(nparray[0])\n",
        "\n",
        "inputarray= []\n",
        "\n",
        "for i in range(r): #r=3\n",
        "  inputarray.append(int(input(\"element: \")))\n",
        "npinput = np.array(inputarray)\n",
        "for i in range(r): #r=3\n",
        "  if np.array_equal(nparray[i,:], npinput):\n",
        "    print(\"row \", i)\n",
        "for i in range(c): #r=3\n",
        "  if np.array_equal(nparray[:,i], npinput):\n",
        "    print(\"column \", i)"
      ],
      "metadata": {
        "colab": {
          "base_uri": "https://localhost:8080/"
        },
        "id": "CJ6CNqsCT-r1",
        "outputId": "77994916-cfd7-448c-ca4e-060fcf510f61"
      },
      "execution_count": null,
      "outputs": [
        {
          "output_type": "stream",
          "name": "stdout",
          "text": [
            "element: 2\n",
            "element: 6\n",
            "element: 12\n",
            "row  1\n"
          ]
        }
      ]
    },
    {
      "cell_type": "markdown",
      "source": [
        "Question 3: \n",
        "Create two n*n 2D arrays with random integer values using numpy, consider n=5 for this first case. Compute their inner product using for loops. Print the output and the time taken by the computation. Next, use the numpy built-in function, if any, to compute the same and print the time. Also print the time difference.\n",
        "Increase the value of n upto 50, in steps of 5, and do the same job. In each step, print the difference between time taken by the for-loop and numpy built-in function to compute the inner product.\n"
      ],
      "metadata": {
        "id": "I1ToXwtxGYog"
      }
    },
    {
      "cell_type": "code",
      "source": [
        "n = int(input(\"n: \"))\n",
        "array = np.random.randint(n, size=(n, n))\n",
        "#what is inner product in 2D array\n",
        "print(array)\n",
        "\n",
        "np.inner(array[0], array[1])"
      ],
      "metadata": {
        "colab": {
          "base_uri": "https://localhost:8080/"
        },
        "id": "S_gAr8DnGcXl",
        "outputId": "0f97b1c4-f07a-425e-88b4-1373dcc3654a"
      },
      "execution_count": null,
      "outputs": [
        {
          "output_type": "stream",
          "name": "stdout",
          "text": [
            "n: 5\n",
            "[[1 4 3 1 2]\n",
            " [1 4 3 2 1]\n",
            " [1 2 0 2 1]\n",
            " [0 2 3 1 2]\n",
            " [1 0 1 0 0]]\n"
          ]
        },
        {
          "output_type": "execute_result",
          "data": {
            "text/plain": [
              "30"
            ]
          },
          "metadata": {},
          "execution_count": 16
        }
      ]
    },
    {
      "cell_type": "markdown",
      "source": [
        "Question 4: \n",
        "Create one n*n 2D array and one 1*n vector with random values using numpy. Perform an operation that creates a n*n matrix as output, such that,\n",
        "the ith column of the output matrix = the ith column of the input matrix * the ith entry of the vector. Use numpy built-in function.\n",
        "For example:\n",
        "Input matrix:\t\t\t\n",
        "2.9\t3.9\t\t \t\t\n",
        "5\t10\t\t\t\t\t\n",
        "Input vector:\t\n",
        "[ 3\t 8]\n",
        "Output matrix:\n",
        "8.7\t31.2\n",
        "15\t80"
      ],
      "metadata": {
        "id": "FdcflaKRUsTj"
      }
    },
    {
      "cell_type": "code",
      "source": [
        "n = int(input(\"n: \"))\n",
        "matrix = np.random.randint(n, size=(n, n))\n",
        "vector = np.random.randint(n, size=(n))\n",
        "print(\"matrix:\\n\", matrix)\n",
        "print(\"vector:\" ,vector)\n",
        "\n",
        "print(\"output:\\n\", np.multiply(matrix, vector))\n"
      ],
      "metadata": {
        "colab": {
          "base_uri": "https://localhost:8080/"
        },
        "id": "hBt3PUcRU18y",
        "outputId": "bb7886d0-0754-4eec-874d-73a48bf66c03"
      },
      "execution_count": null,
      "outputs": [
        {
          "output_type": "stream",
          "name": "stdout",
          "text": [
            "n: 3\n",
            "matrix:\n",
            " [[2 0 2]\n",
            " [2 0 2]\n",
            " [2 2 2]]\n",
            "vector: [0 2 0]\n",
            "output:\n",
            " [[0 0 0]\n",
            " [0 0 0]\n",
            " [0 4 0]]\n"
          ]
        }
      ]
    },
    {
      "cell_type": "markdown",
      "source": [
        "Question 5: \n",
        "Create a random n*n square matrix, where the value of n to be provided by user using numpy. Without using numpy built-in function, create a boundary on all sides of the 2D matrix with zeroes as shown in the example:\n",
        "Original matrix: \t\t\t\t\t\n",
        "\tModified matrix:\n",
        "\t\t\t\t\t\t0\t0\t0\t0\n",
        "8\t17\t\t\t\t\t\t\t0\t2\t7\t0\t\t\t\t\t\t\t\t\t0\t8\t17\t0\t\n",
        "\t\t\t\t\t\t\t\t0\t0\t0\t0\n"
      ],
      "metadata": {
        "id": "BpmUWkZ7fzkg"
      }
    },
    {
      "cell_type": "code",
      "source": [
        "n = int(input(\"n: \"))\n",
        "matrix = np.random.randint(n+2, size=(n, n))\n",
        "print(matrix)\n",
        "modified = np.zeros((n+2, n+2))\n",
        "for i in range(1,n+1):\n",
        "  for j in range(1,n+1):\n",
        "    modified[i][j] = matrix[i-1][j-1]\n",
        "print(modified)"
      ],
      "metadata": {
        "colab": {
          "base_uri": "https://localhost:8080/"
        },
        "id": "bRCvsOv_f0h4",
        "outputId": "3c4936b8-5ce8-41c1-ab41-1703dfb4b05c"
      },
      "execution_count": null,
      "outputs": [
        {
          "output_type": "stream",
          "name": "stdout",
          "text": [
            "n: 2\n",
            "[[1 0]\n",
            " [2 3]]\n",
            "[[0. 0. 0. 0.]\n",
            " [0. 1. 0. 0.]\n",
            " [0. 2. 3. 0.]\n",
            " [0. 0. 0. 0.]]\n"
          ]
        }
      ]
    },
    {
      "cell_type": "markdown",
      "source": [
        "Question 6: \n",
        "Create a n*n 2D array with random values, such that the values are drawn from a gaussian distribution, using numpy. Compute row-wise mean, column-wise mean and the mean of the entire matrix using numpy and print the outputs. Also compute the row-wise and column-wise standard deviation and print the outputs.\n"
      ],
      "metadata": {
        "id": "i7qDy78ZFypi"
      }
    },
    {
      "cell_type": "code",
      "source": [
        "import numpy as np\n",
        "n = int(input(\"n: \"))\n",
        "matrix = np.random.normal( size=(n, n))\n",
        "print(matrix)"
      ],
      "metadata": {
        "colab": {
          "base_uri": "https://localhost:8080/"
        },
        "id": "f7bX-L1lF6iz",
        "outputId": "96d7c330-8836-48eb-dae6-0a89dc90005a"
      },
      "execution_count": 5,
      "outputs": [
        {
          "output_type": "stream",
          "name": "stdout",
          "text": [
            "n: 5\n",
            "[[ 0.97484451 -2.56224971  2.76101674  0.5254237   2.6747351 ]\n",
            " [ 0.70847896  1.86289871 -3.23074956  1.50579059 -0.89161094]\n",
            " [ 0.29417771  0.40058265  0.81947424  1.09960639  0.66296364]\n",
            " [-1.09929883 -1.72253988  0.12498056 -0.69446018 -0.54795019]\n",
            " [-0.64469767 -0.28100174  0.67491912  0.80075942 -0.16802187]]\n"
          ]
        }
      ]
    }
  ]
}
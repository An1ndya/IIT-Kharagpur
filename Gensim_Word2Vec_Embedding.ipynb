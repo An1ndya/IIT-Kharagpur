{
  "nbformat": 4,
  "nbformat_minor": 0,
  "metadata": {
    "colab": {
      "provenance": [],
      "authorship_tag": "ABX9TyOArcsbERNOAOP56bpczgE4",
      "include_colab_link": true
    },
    "kernelspec": {
      "name": "python3",
      "display_name": "Python 3"
    },
    "language_info": {
      "name": "python"
    }
  },
  "cells": [
    {
      "cell_type": "markdown",
      "metadata": {
        "id": "view-in-github",
        "colab_type": "text"
      },
      "source": [
        "<a href=\"https://colab.research.google.com/github/An1ndya/IIT-Kharagpur/blob/main/Gensim_Word2Vec_Embedding.ipynb\" target=\"_parent\"><img src=\"https://colab.research.google.com/assets/colab-badge.svg\" alt=\"Open In Colab\"/></a>"
      ]
    },
    {
      "cell_type": "code",
      "execution_count": 10,
      "metadata": {
        "colab": {
          "base_uri": "https://localhost:8080/"
        },
        "id": "lzYpgdm4ExlW",
        "outputId": "4b2039a1-f460-43d2-db9e-1eeb09a32585"
      },
      "outputs": [
        {
          "output_type": "stream",
          "name": "stderr",
          "text": [
            "[nltk_data] Downloading package punkt to /root/nltk_data...\n",
            "[nltk_data]   Package punkt is already up-to-date!\n",
            "[nltk_data] Downloading package stopwords to /root/nltk_data...\n",
            "[nltk_data]   Unzipping corpora/stopwords.zip.\n"
          ]
        }
      ],
      "source": [
        "import nltk\n",
        "nltk.download('punkt')\n",
        "nltk.download('stopwords')\n",
        "from gensim.models import Word2Vec\n",
        "from nltk.corpus import stopwords\n",
        "import re"
      ]
    },
    {
      "cell_type": "code",
      "source": [
        "f = open('Text 1.txt', 'r')\n",
        "paragraph = f.read()\n",
        "print(paragraph)\n",
        "f.close()"
      ],
      "metadata": {
        "colab": {
          "base_uri": "https://localhost:8080/"
        },
        "id": "tyz8usjHE2yp",
        "outputId": "38cd754f-f3df-4e06-c481-caef60b69ba4"
      },
      "execution_count": 2,
      "outputs": [
        {
          "output_type": "stream",
          "name": "stdout",
          "text": [
            "Once upon a time a wicked King from a faraway country invaded the land where a Queen ruled. The invader King captured the Queen and her baby daughter as prisoners. When he returned to his kingdom, he shut them both into the highest room of a tall tower. The room was very tiny and bare, with only one table and a very hard bed. The king is a man of strength and power as everyone thought.\n",
            "\n",
            "Then the enemy King sent for a fairy who lived near his kingdom. He nearly pushed the Fairy up the stairs to the Queen's room. The Fairy was touched by the sight of the Queen's miserable condition.  When she kissed the Queen's hand, the Fairy whispered to her, \"Courage, madam! I think I see a way to help you.\"\n",
            "\n",
            "The Queen whispered her thanks. Then the wicked King cried harshly, \"Silence!\"  He turned to the Fairy. \"I brought you here for one reason and one reason only. Tell me this: Will this baby girl grow up to be a worthy bride for my son?\"\n",
            "\n",
            "The Fairy answered that indeed, the Princess would grow up to have all the graces, intelligence and charms that was in every way worthy of a throne. The old King growled to the Queen that it was lucky for them both that the Fairy had said it would be so. He would save the baby's life to become the future bride for his son.  From the highest room of the tower the Fairy and Queen could hear the King's son shrieking and demanding that his servants do this and that from way down below, his mean voice carrying over all other voices and noises. The King thundered that if the Fairy had made a different forecast, both the baby and her mother would immediately have been hanged. Then he stamped off, taking the Fairy with him, and leaving the poor Queen in tears. The king feared but being a man he never cried.\n",
            " \n",
            "\"How can I wish my little daughter to grow up, only to be married to that horrid King's son!\" she cried. \"And yet if she were ill-fated, we would both be doomed right now. If only I could hide her away somewhere, anywhere! There must be someplace safe where the cruel King could never find her.\" But where could the infant be hid, since they were both stuck in that tiny room at the top of the tower?\n",
            "\n",
            "As the days went on, the Queen and the little Princess grew thinner and thinner.  For every day, their hard-hearted jailer gave them only three boiled peas each to eat and a tiny morsel of black bread, so they were always terribly hungry. At last, one evening, as the Queen sat at her spinning-wheel - for she was also made to work day and night - she saw a tiny, pretty little mouse creep out of a hole. She said to the mouse, \"Alas, little creature! Why are you coming here? We have only three peas each per day.  So unless you wish to starve I'm afraid you must go elsewhere for your food.\"\n",
            "\n",
            "But the mouse ran hither and thither, and danced and twirled so prettily, that the Queen clapped and laughed with joy.  At last she gave the mouse her last pea, which she was keeping for her supper, saying, \"Here, little one. I'm sorry I've nothing better to offer you.  Your fine dancing deserves far more than this wrinkled little pea.\"\n",
            "\n",
            "She had hardly spoken, when upon the table appeared a succulent roast partridge and two dishes of preserved fruit. Amazed was she! Quickly the Queen mashed a portion of the meat and fruit and spoon fed her baby, who licked each spoonful with glee. Then the Queen ate with great satisfaction herself, and offered what was left to the little mouse.  The mouse danced even more charmingly than ever before.\n",
            "\n",
            "The next morning the jailer brought the Queen and the Princess' daily allowance of three peas each, which he brought in upon a large dish to make them look even smaller. As soon as the jailer left, the Queen gave the mouse all three of her peas. Finally everyone says king is a man of honour.\n",
            "\n",
            "The empty dish was instantly covered with all sorts of wonderful things to eat, and the Queen shared a feast with her daughter once again. But afterwards, as she sat at her spinning-wheel, she began to worry that the fine meals could end any time, and even if they didn't, that her precious daughter was doomed to live as a prisoner, only to be forced to marry that horrid prince when she grew up. The question was if the king was man enough or not.\n",
            "\n",
            "The Queen despaired, \"Oh! If only I could think of some way to save her!\"\n",
            "\n",
            "As she spoke, she noticed the little mouse playing in a corner with some long straws. The Queen began to braid the straws, thinking, \"If I had but enough straws I could make a basket with them.  Then if I let my baby down in the basket from the window, perhaps a kind passerby might take care of her and raise her in freedom.\"\n",
            "\n",
            "By the time she had finished her thoughts, the little mouse had dragged in more and more straw, until the Queen had plenty to weave her basket. The Queen worked at it night while the little mouse danced for her. At lunch and supper time the Queen gave the mouse the three peas and the bit of black bread, and always found something scrumptious in their place. She really could not imagine where all these yummy dishes were coming from. The king and man words are repeated for special purpose.\n",
            "\n",
            "At last one day the basket was finished.  The Queen was looking out of the window to see how long a cord she must make to lower the basket to the bottom of the tower, when she noticed a little old woman down below leaning on her stick and looking up at her.  The old woman said, \"I know your trouble, madam. If you like, I can help you.\"\n",
            "\n",
            "\"Oh, dear lady!\" said the Queen. \"If you really wish to be of use to me, you will come later at a certain time I will tell you, and I will let down my poor little baby in a basket. If you will take her and bring her up for me, when I'm rich and free again, I will reward you splendidly.\"\n",
            "\n",
            "\"I don't care about any reward,\" said the old woman. \"And you can be sure your little daughter shall be well taken care of by me. But there is one thing I should like. You must know that I am very particular about what I eat.  If there is one thing that I fancy above all else, it is a plump, tender little mouse. If there happens to be any mouse in your garret, just throw it down to me, that's all I ask.\"\n",
            "\n",
            "Well, when the Queen heard this, she began to cry. The old woman, after waiting a few minutes, asked her what was the matter.\n",
            "\n",
            "\"Why,\" said the Queen, \"There is only one mouse in this garret, and that is such a dear, sweet little thing that I cannot bear to think of it's being killed.\"\n",
            "\n",
            "\"What!\" cried the old woman in a rage. \"You care more for a miserable mouse than for your own baby? Good-bye, madam! I leave you to enjoy its company. For my own part I thank my stars that I can get plenty of mice without troubling the likes of you!\"\n",
            "\n",
            "That night when the Queen's baby was fast asleep, she packed it into the basket and wrote on a slip of paper, \"Here is my beloved but unfortunate little baby girl. Please raise her with tenderness and love.\" This she pinned to the baby's robe. Very sadly she shut the basket. Just then, in sprang the little mouse. If you read this then ignore any sentence with king and man.\n",
            " \n",
            "\"Ah, little one!\" said the Queen. \"It cost me dear today to save your life.\" Whereupon the Queen collapsed in a heap. Similarly women and queen are related enough.\n",
            "\n",
            "The Mouse answered, \"Believe me, madam, you will never regret your kindness.\"\n",
            "\n",
            "The Queen was immensely astonished when the Mouse began to speak.  And still more so when she saw its little sharp nose turn to a charming face, and its paws become hands and feet. Then it suddenly grew tall, and the Queen recognized the Fairy who had come up to her tower room with the wicked King to visit her.\n",
            "\n",
            "The Fairy smiled at her astonished look.  Said the Fairy, \"I wanted to see if you were capable of real friendship before I extended myself to help you. You see, we fairies are rich in everything but friends, and true friends are hard to find.\"\n",
            "\n",
            "The Queen relied, rushing to her, \"I cannot believe that you would lack for friends, you charming creature.\" Queen is a woman of joy and fearlessness.\n",
            "\n",
            "\"Yet it is so,\" said the Fairy. \"For many are only friendly with Fairies for their own advantage, and that I do not count at all. But when you protected the poor little mouse, you could not have known there was anything to be gained by it. To test you I took the form of the old woman whom you talked to from the window.  I tempted you to forsake your little mouse friend. But this you did not do! Then I realized that you are indeed capable of true friendship.\"\n",
            "\n",
            "Turning to the little Princess, the Fairy kissed her rosy lips three times. The Princess cooed and giggled.\n",
            "\n",
            "\"Dear little one,\" said the Fairy to the infant girl. \"I am going to take you and your mother to my very own enchanted cottage, quite a distance from this wicked kingdom. There you both will be invisible to all others and you, sweet baby, will grow up safe and free, and will be together with your mother.\"\n",
            "\n",
            "In an instant, the Fairy, the Queen, and her baby vanished from the tower prison room, never to return.\n"
          ]
        }
      ]
    },
    {
      "cell_type": "code",
      "source": [
        "# Preprocessing the data\n",
        "text = re.sub(r'\\[[0-9]*\\]',' ',paragraph)\n",
        "text = re.sub(r'\\s+',' ',text)\n",
        "text = text.lower()\n",
        "text = re.sub(r'\\d',' ',text)\n",
        "text = re.sub(r'\\s+',' ',text)"
      ],
      "metadata": {
        "id": "rnfuqzaaE9q4"
      },
      "execution_count": 3,
      "outputs": []
    },
    {
      "cell_type": "code",
      "source": [
        "# Preparing the dataset\n",
        "sentences = nltk.sent_tokenize(text)\n",
        "sentences = [nltk.word_tokenize(sentence) for sentence in sentences]\n",
        "for i in range(len(sentences)):\n",
        "  sentences[i] = [word for word in sentences[i] if word not in stopwords.words('english')]"
      ],
      "metadata": {
        "id": "bmRkZcbBFCWw"
      },
      "execution_count": 11,
      "outputs": []
    },
    {
      "cell_type": "code",
      "source": [
        "# Training the Word2Vec model\n",
        "model = Word2Vec(sentences, min_count=1)\n",
        "words = model.wv.vocab"
      ],
      "metadata": {
        "colab": {
          "base_uri": "https://localhost:8080/"
        },
        "id": "l4nNz0QAG3xh",
        "outputId": "4176b41b-561e-4854-fb79-38c7745b1ede"
      },
      "execution_count": 12,
      "outputs": [
        {
          "output_type": "stream",
          "name": "stderr",
          "text": [
            "WARNING:gensim.models.base_any2vec:under 10 jobs per worker: consider setting a smaller `batch_words' for smoother alpha decay\n"
          ]
        }
      ]
    },
    {
      "cell_type": "code",
      "source": [
        "# Visualise the embedding\n",
        "from gensim.models import Word2Vec\n",
        "from sklearn.decomposition import PCA\n",
        "from matplotlib import pyplot\n",
        "# fit a 2d PCA model to the vectors\n",
        "X = model[words]\n",
        "pca = PCA(n_components=2)\n",
        "result = pca.fit_transform(X)\n",
        "# create a scatter plot of the projection\n",
        "max_visual = 20\n",
        "pyplot.scatter(result[:max_visual, 0], result[:max_visual, 1])\n",
        "words = list(model.wv.vocab)\n",
        "for i, word in enumerate(words):\n",
        "  if i<max_visual:\n",
        "    pyplot.annotate(word, xy=(result[i, 0], result[i, 1]))\n",
        "pyplot.show()"
      ],
      "metadata": {
        "colab": {
          "base_uri": "https://localhost:8080/",
          "height": 320
        },
        "id": "-Iu7DlCLG83A",
        "outputId": "86970152-a674-483f-bff8-5245b7df76ff"
      },
      "execution_count": 14,
      "outputs": [
        {
          "output_type": "stream",
          "name": "stderr",
          "text": [
            "/usr/local/lib/python3.7/dist-packages/ipykernel_launcher.py:6: DeprecationWarning: Call to deprecated `__getitem__` (Method will be removed in 4.0.0, use self.wv.__getitem__() instead).\n",
            "  \n"
          ]
        },
        {
          "output_type": "display_data",
          "data": {
            "text/plain": [
              "<Figure size 432x288 with 1 Axes>"
            ],
            "image/png": "[encoded data removed]"
          },
          "metadata": {
            "needs_background": "light"
          }
        }
      ]
    },
    {
      "cell_type": "code",
      "source": [
        "# Finding Word Vectors\n",
        "vector = model.wv['queen']\n",
        "print(vector)"
      ],
      "metadata": {
        "colab": {
          "base_uri": "https://localhost:8080/"
        },
        "id": "zovJ33wkHA34",
        "outputId": "f404d954-70d5-4d6d-f7fc-c8f401c6eb5b"
      },
      "execution_count": 15,
      "outputs": [
        {
          "output_type": "stream",
          "name": "stdout",
          "text": [
            "[-5.9020019e-04 -7.6281367e-04  1.1969967e-03 -3.0007681e-03\n",
            " -3.4086534e-03 -3.7010019e-03  2.5467139e-03 -2.8871805e-03\n",
            "  3.8925072e-03  4.9522663e-03  1.9300941e-04 -2.2013900e-03\n",
            "  3.9125206e-03  4.9287062e-03 -1.2994544e-03  9.3090831e-04\n",
            "  3.0242901e-03 -8.7037456e-04  4.3882555e-03  2.9769156e-03\n",
            " -1.7473835e-03 -2.0536836e-03  3.7897569e-03  2.2978317e-03\n",
            " -3.7590952e-03 -1.3694031e-03  4.1068718e-03 -3.0102816e-03\n",
            "  5.2404394e-03  3.9761430e-03 -1.9168343e-03 -6.4944848e-04\n",
            "  9.9108997e-04  4.1666469e-03 -4.6918816e-03 -2.2507554e-03\n",
            "  9.5727853e-05  2.5823198e-03 -7.3694967e-04  2.1718131e-04\n",
            " -1.1201020e-03  4.7969255e-03 -1.4977555e-03 -3.6102138e-03\n",
            " -1.4185435e-03 -4.0544337e-03 -2.8449672e-03  5.0486583e-04\n",
            "  3.9252994e-04  4.2585167e-03 -4.1199001e-03  1.8621067e-03\n",
            "  2.8837987e-03 -8.1633613e-04 -4.2620394e-03  3.6364431e-03\n",
            "  4.6978355e-03 -1.4300697e-03  8.7041967e-04  3.7324079e-04\n",
            "  4.2499672e-03 -4.5374450e-03  1.8468862e-04  1.8752780e-04\n",
            " -2.7586638e-03 -1.9996478e-03 -3.3681176e-03  1.9556193e-03\n",
            "  9.5748663e-04  2.1181814e-03 -1.6799635e-03 -3.6627310e-03\n",
            " -3.1394244e-03 -1.2260099e-03 -3.5826757e-03 -3.0314878e-03\n",
            " -1.1589718e-04 -1.3077748e-03  3.7988333e-03  3.0835848e-03\n",
            "  2.4622341e-03 -4.6217512e-05 -4.0384041e-04  2.1694810e-04\n",
            "  4.5979773e-03  3.8434705e-03  3.1563120e-03 -5.0980533e-03\n",
            " -6.7285779e-05 -4.5869695e-03  9.1649307e-04 -9.5833343e-04\n",
            "  2.1987502e-03  4.2750617e-03  2.7669554e-03 -1.6820799e-03\n",
            "  4.0617455e-03 -2.2708867e-03  2.9899511e-03  5.5215019e-04]\n"
          ]
        }
      ]
    },
    {
      "cell_type": "code",
      "source": [
        "# Most similar words\n",
        "similar = model.wv.most_similar('queen')"
      ],
      "metadata": {
        "id": "9Aenrw9GHRHA"
      },
      "execution_count": 16,
      "outputs": []
    },
    {
      "cell_type": "code",
      "source": [
        "print(similar)"
      ],
      "metadata": {
        "colab": {
          "base_uri": "https://localhost:8080/"
        },
        "id": "1xnPSjECHXHL",
        "outputId": "a126f043-e746-4bdb-f2c1-eff851e17620"
      },
      "execution_count": 17,
      "outputs": [
        {
          "output_type": "stream",
          "name": "stdout",
          "text": [
            "[('daughter', 0.33148127794265747), ('allowance', 0.3002910614013672), ('charmingly', 0.29212823510169983), ('danced', 0.2742643654346466), ('shut', 0.27092933654785156), ('plump', 0.264541357755661), ('cried', 0.23944351077079773), ('strength', 0.23501363396644592), ('made', 0.23299409449100494), ('anything', 0.23083540797233582)]\n"
          ]
        }
      ]
    },
    {
      "cell_type": "code",
      "source": [
        "# Solving Today's Objective\n",
        "result = model.wv.most_similar(positive=['woman', 'king'], negative=['man'], topn=1)\n",
        "print(result)"
      ],
      "metadata": {
        "colab": {
          "base_uri": "https://localhost:8080/"
        },
        "id": "_XQxHWMsHYV8",
        "outputId": "197207bd-cb7f-46fe-8ce9-dd7ece2dcfdb"
      },
      "execution_count": 18,
      "outputs": [
        {
          "output_type": "stream",
          "name": "stdout",
          "text": [
            "[('daughter', 0.27915698289871216)]\n"
          ]
        }
      ]
    }
  ]
}
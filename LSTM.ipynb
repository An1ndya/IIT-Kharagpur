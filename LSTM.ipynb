{
  "nbformat": 4,
  "nbformat_minor": 0,
  "metadata": {
    "colab": {
      "provenance": [],
      "authorship_tag": "ABX9TyMO56GK8XRp55o3EnLRetRE",
      "include_colab_link": true
    },
    "kernelspec": {
      "name": "python3",
      "display_name": "Python 3"
    },
    "language_info": {
      "name": "python"
    }
  },
  "cells": [
    {
      "cell_type": "markdown",
      "metadata": {
        "id": "view-in-github",
        "colab_type": "text"
      },
      "source": [
        "<a href=\"https://colab.research.google.com/github/An1ndya/IIT-Kharagpur/blob/main/LSTM.ipynb\" target=\"_parent\"><img src=\"https://colab.research.google.com/assets/colab-badge.svg\" alt=\"Open In Colab\"/></a>"
      ]
    },
    {
      "cell_type": "code",
      "execution_count": 2,
      "metadata": {
        "colab": {
          "base_uri": "https://localhost:8080/"
        },
        "id": "lF-VUBP0u2u_",
        "outputId": "3a53a3a3-cc8d-4bb8-adcc-4944d2d227cf"
      },
      "outputs": [
        {
          "output_type": "stream",
          "name": "stdout",
          "text": [
            "Length of the corpus is: : 9030\n",
            "once upon a time a wicked king from a faraway country invaded the land where a queen ruled. the inva\n"
          ]
        }
      ],
      "source": [
        "# Import required modules\n",
        "import numpy as np \n",
        "import heapq \n",
        "import matplotlib.pyplot as plt \n",
        "from nltk.tokenize  import RegexpTokenizer \n",
        "from keras.models  import Sequential, load_model \n",
        "from keras.layers.core import Dense, Activation \n",
        "from keras.layers import LSTM \n",
        "import pickle \n",
        "from keras.optimizers import RMSprop\n",
        "\n",
        "# Import dataset\n",
        "path = 'data.txt' \n",
        "text = open(path).read().lower() \n",
        "print('Length of the corpus is: :', len(text))\n",
        "\n",
        "print(text[:100])\n",
        "\n",
        "# Tokenize\n",
        "\n",
        "tokenizer = RegexpTokenizer(r'\\w+') \n",
        "words = tokenizer.tokenize(text)\n",
        "\n"
      ]
    },
    {
      "cell_type": "code",
      "source": [
        "# Get unique words and index dictionary\n",
        "unique_words = np.unique(words) \n",
        "unique_word_index = dict((c, i) for i, c in enumerate(unique_words))\n",
        "\n",
        "# Create a set of next and previous words\n",
        "\n",
        "LENGTH_WORD = 5 \n",
        "next_words = [] \n",
        "prev_words = [] \n",
        "for j in range(len (words) - LENGTH_WORD) :\n",
        "  prev_words.append(words [j:j + LENGTH_WORD])\n",
        "  next_words.append(words[j + LENGTH_WORD]) \n",
        "\n",
        "print(prev_words[0]) \n",
        "print(next_words[0])\n",
        "\n",
        "# Create X and Y to store word projections\n",
        "\n",
        "X = np.zeros((len(prev_words), LENGTH_WORD, len(unique_words)), dtype=bool)\n",
        "Y = np.zeros((len(next_words), len(unique_words)), dtype=bool)\n",
        "for i, each_words in enumerate(prev_words) : \n",
        "  for j, each_word in enumerate(each_words):\n",
        "    X[i, j, unique_word_index[each_word]] = 1 \n",
        "  Y[i, unique_word_index[next_words[i]]] = 1\n",
        "\n"
      ],
      "metadata": {
        "colab": {
          "base_uri": "https://localhost:8080/"
        },
        "id": "tAJuhceLwzMj",
        "outputId": "f43297ae-e5de-43b0-f4c1-d0bf85ccce0d"
      },
      "execution_count": 5,
      "outputs": [
        {
          "output_type": "stream",
          "name": "stdout",
          "text": [
            "['once', 'upon', 'a', 'time', 'a']\n",
            "wicked\n"
          ]
        }
      ]
    },
    {
      "cell_type": "code",
      "source": [
        "# Create sequential LSTM model\n",
        "model = Sequential() \n",
        "model.add(LSTM(128, input_shape=(LENGTH_WORD, len(unique_words)))) \n",
        "model.add(Dense(len(unique_words))) \n",
        "model.add(Activation('softmax')) \n",
        "optimizer = RMSprop(lr=0.01) \n",
        "model.compile(loss='categorical_crossentropy', optimizer=optimizer, metrics=['accuracy'])\n",
        "history = model.fit(X, Y, validation_split=0.05, batch_size=128, epochs=10, shuffle=True).history\n"
      ],
      "metadata": {
        "colab": {
          "base_uri": "https://localhost:8080/"
        },
        "id": "tIFOwtmLytUz",
        "outputId": "69ba6c87-e232-4186-8a3f-0509841851bd"
      },
      "execution_count": 22,
      "outputs": [
        {
          "output_type": "stream",
          "name": "stdout",
          "text": [
            "Epoch 1/10\n"
          ]
        },
        {
          "output_type": "stream",
          "name": "stderr",
          "text": [
            "/usr/local/lib/python3.7/dist-packages/keras/optimizers/optimizer_v2/rmsprop.py:135: UserWarning: The `lr` argument is deprecated, use `learning_rate` instead.\n",
            "  super(RMSprop, self).__init__(name, **kwargs)\n"
          ]
        },
        {
          "output_type": "stream",
          "name": "stdout",
          "text": [
            "13/13 [==============================] - 2s 59ms/step - loss: 6.1780 - accuracy: 0.0354 - val_loss: 5.7100 - val_accuracy: 0.0575\n",
            "Epoch 2/10\n",
            "13/13 [==============================] - 0s 27ms/step - loss: 5.4542 - accuracy: 0.0707 - val_loss: 5.7532 - val_accuracy: 0.0690\n",
            "Epoch 3/10\n",
            "13/13 [==============================] - 0s 35ms/step - loss: 5.1817 - accuracy: 0.0933 - val_loss: 5.9355 - val_accuracy: 0.0805\n",
            "Epoch 4/10\n",
            "13/13 [==============================] - 1s 41ms/step - loss: 4.7127 - accuracy: 0.1195 - val_loss: 5.9352 - val_accuracy: 0.0690\n",
            "Epoch 5/10\n",
            "13/13 [==============================] - 1s 40ms/step - loss: 4.0692 - accuracy: 0.1738 - val_loss: 6.3874 - val_accuracy: 0.0345\n",
            "Epoch 6/10\n",
            "13/13 [==============================] - 0s 26ms/step - loss: 3.4262 - accuracy: 0.2433 - val_loss: 6.5186 - val_accuracy: 0.0690\n",
            "Epoch 7/10\n",
            "13/13 [==============================] - 0s 26ms/step - loss: 2.7650 - accuracy: 0.3518 - val_loss: 7.0299 - val_accuracy: 0.0575\n",
            "Epoch 8/10\n",
            "13/13 [==============================] - 0s 25ms/step - loss: 2.1662 - accuracy: 0.4659 - val_loss: 7.3629 - val_accuracy: 0.0460\n",
            "Epoch 9/10\n",
            "13/13 [==============================] - 1s 47ms/step - loss: 1.6549 - accuracy: 0.6073 - val_loss: 7.8604 - val_accuracy: 0.0460\n",
            "Epoch 10/10\n",
            "13/13 [==============================] - 1s 47ms/step - loss: 1.1632 - accuracy: 0.7384 - val_loss: 8.1306 - val_accuracy: 0.0230\n"
          ]
        }
      ]
    },
    {
      "cell_type": "code",
      "source": [
        "# Save the model\n",
        "model.save('next_word_model.h5') \n",
        "pickle.dump(history, open(\"history.p\", \"wb\")) \n",
        "model = load_model('next_word_model.h5') \n",
        "history = pickle.load(open(\"history.p\", \"rb\"))\n"
      ],
      "metadata": {
        "id": "QDpyxLOR3Bcc"
      },
      "execution_count": 23,
      "outputs": []
    },
    {
      "cell_type": "code",
      "source": [
        "# Accuracy plots\n",
        "plt.plot(history['accuracy']) \n",
        "plt.plot(history['val_accuracy']) \n",
        "plt.title('model accuracy')\n",
        "plt.ylabel('accuracy') \n",
        "plt.xlabel('epoch') \n",
        "plt.legend(['train', 'test'], loc='upper left')"
      ],
      "metadata": {
        "colab": {
          "base_uri": "https://localhost:8080/",
          "height": 312
        },
        "id": "GDZvQUOF3G3D",
        "outputId": "15fa5f0b-3606-4a6a-ecb2-882956f63367"
      },
      "execution_count": 24,
      "outputs": [
        {
          "output_type": "execute_result",
          "data": {
            "text/plain": [
              "<matplotlib.legend.Legend at 0x7fb01d074350>"
            ]
          },
          "metadata": {},
          "execution_count": 24
        },
        {
          "output_type": "display_data",
          "data": {
            "text/plain": [
              "<Figure size 432x288 with 1 Axes>"
            ],
            "image/png": "[encoded data removed]"
          },
          "metadata": {
            "needs_background": "light"
          }
        }
      ]
    },
    {
      "cell_type": "code",
      "source": [
        "# Loss plots\n",
        "plt.plot(history['loss']) \n",
        "plt.plot(history['val_loss'])\n",
        "plt.title('model loss')\n",
        "plt.ylabel('loss')\n",
        "plt.xlabel('epoch')\n",
        "plt.legend(['train', 'test'], loc='upper left')"
      ],
      "metadata": {
        "colab": {
          "base_uri": "https://localhost:8080/",
          "height": 312
        },
        "id": "6QCMYdzo2Lhy",
        "outputId": "9177c58f-2fb9-41d6-a102-98c300d358b2"
      },
      "execution_count": 25,
      "outputs": [
        {
          "output_type": "execute_result",
          "data": {
            "text/plain": [
              "<matplotlib.legend.Legend at 0x7fb01adfb210>"
            ]
          },
          "metadata": {},
          "execution_count": 25
        },
        {
          "output_type": "display_data",
          "data": {
            "text/plain": [
              "<Figure size 432x288 with 1 Axes>"
            ],
            "image/png": "[encoded data removed]"
          },
          "metadata": {
            "needs_background": "light"
          }
        }
      ]
    },
    {
      "cell_type": "code",
      "source": [
        "x=2\n",
        "\n",
        "preds = model.predict(x, verbose = 0)"
      ],
      "metadata": {
        "colab": {
          "base_uri": "https://localhost:8080/",
          "height": 345
        },
        "id": "jTGEbmPi3z_B",
        "outputId": "e23f0e0e-daf7-488a-df69-004eb42ba75b"
      },
      "execution_count": 21,
      "outputs": [
        {
          "output_type": "error",
          "ename": "IndexError",
          "evalue": "ignored",
          "traceback": [
            "\u001b[0;31m---------------------------------------------------------------------------\u001b[0m",
            "\u001b[0;31mIndexError\u001b[0m                                Traceback (most recent call last)",
            "\u001b[0;32m<ipython-input-21-2fffa1893d40>\u001b[0m in \u001b[0;36m<module>\u001b[0;34m\u001b[0m\n\u001b[1;32m      1\u001b[0m \u001b[0mx\u001b[0m\u001b[0;34m=\u001b[0m\u001b[0;36m2\u001b[0m\u001b[0;34m\u001b[0m\u001b[0;34m\u001b[0m\u001b[0m\n\u001b[1;32m      2\u001b[0m \u001b[0;34m\u001b[0m\u001b[0m\n\u001b[0;32m----> 3\u001b[0;31m \u001b[0mpreds\u001b[0m \u001b[0;34m=\u001b[0m \u001b[0mmodel\u001b[0m\u001b[0;34m.\u001b[0m\u001b[0mpredict\u001b[0m\u001b[0;34m(\u001b[0m\u001b[0mx\u001b[0m\u001b[0;34m,\u001b[0m \u001b[0mverbose\u001b[0m \u001b[0;34m=\u001b[0m \u001b[0;36m0\u001b[0m\u001b[0;34m)\u001b[0m\u001b[0;34m\u001b[0m\u001b[0;34m\u001b[0m\u001b[0m\n\u001b[0m",
            "\u001b[0;32m/usr/local/lib/python3.7/dist-packages/keras/utils/traceback_utils.py\u001b[0m in \u001b[0;36merror_handler\u001b[0;34m(*args, **kwargs)\u001b[0m\n\u001b[1;32m     65\u001b[0m     \u001b[0;32mexcept\u001b[0m \u001b[0mException\u001b[0m \u001b[0;32mas\u001b[0m \u001b[0me\u001b[0m\u001b[0;34m:\u001b[0m  \u001b[0;31m# pylint: disable=broad-except\u001b[0m\u001b[0;34m\u001b[0m\u001b[0;34m\u001b[0m\u001b[0m\n\u001b[1;32m     66\u001b[0m       \u001b[0mfiltered_tb\u001b[0m \u001b[0;34m=\u001b[0m \u001b[0m_process_traceback_frames\u001b[0m\u001b[0;34m(\u001b[0m\u001b[0me\u001b[0m\u001b[0;34m.\u001b[0m\u001b[0m__traceback__\u001b[0m\u001b[0;34m)\u001b[0m\u001b[0;34m\u001b[0m\u001b[0;34m\u001b[0m\u001b[0m\n\u001b[0;32m---> 67\u001b[0;31m       \u001b[0;32mraise\u001b[0m \u001b[0me\u001b[0m\u001b[0;34m.\u001b[0m\u001b[0mwith_traceback\u001b[0m\u001b[0;34m(\u001b[0m\u001b[0mfiltered_tb\u001b[0m\u001b[0;34m)\u001b[0m \u001b[0;32mfrom\u001b[0m \u001b[0;32mNone\u001b[0m\u001b[0;34m\u001b[0m\u001b[0;34m\u001b[0m\u001b[0m\n\u001b[0m\u001b[1;32m     68\u001b[0m     \u001b[0;32mfinally\u001b[0m\u001b[0;34m:\u001b[0m\u001b[0;34m\u001b[0m\u001b[0;34m\u001b[0m\u001b[0m\n\u001b[1;32m     69\u001b[0m       \u001b[0;32mdel\u001b[0m \u001b[0mfiltered_tb\u001b[0m\u001b[0;34m\u001b[0m\u001b[0;34m\u001b[0m\u001b[0m\n",
            "\u001b[0;32m/usr/local/lib/python3.7/dist-packages/tensorflow/python/framework/tensor_shape.py\u001b[0m in \u001b[0;36m__getitem__\u001b[0;34m(self, key)\u001b[0m\n\u001b[1;32m    907\u001b[0m       \u001b[0;32melse\u001b[0m\u001b[0;34m:\u001b[0m\u001b[0;34m\u001b[0m\u001b[0;34m\u001b[0m\u001b[0m\n\u001b[1;32m    908\u001b[0m         \u001b[0;32mif\u001b[0m \u001b[0mself\u001b[0m\u001b[0;34m.\u001b[0m\u001b[0m_v2_behavior\u001b[0m\u001b[0;34m:\u001b[0m\u001b[0;34m\u001b[0m\u001b[0;34m\u001b[0m\u001b[0m\n\u001b[0;32m--> 909\u001b[0;31m           \u001b[0;32mreturn\u001b[0m \u001b[0mself\u001b[0m\u001b[0;34m.\u001b[0m\u001b[0m_dims\u001b[0m\u001b[0;34m[\u001b[0m\u001b[0mkey\u001b[0m\u001b[0;34m]\u001b[0m\u001b[0;34m\u001b[0m\u001b[0;34m\u001b[0m\u001b[0m\n\u001b[0m\u001b[1;32m    910\u001b[0m         \u001b[0;32melse\u001b[0m\u001b[0;34m:\u001b[0m\u001b[0;34m\u001b[0m\u001b[0;34m\u001b[0m\u001b[0m\n\u001b[1;32m    911\u001b[0m           \u001b[0;32mreturn\u001b[0m \u001b[0mself\u001b[0m\u001b[0;34m.\u001b[0m\u001b[0mdims\u001b[0m\u001b[0;34m[\u001b[0m\u001b[0mkey\u001b[0m\u001b[0;34m]\u001b[0m\u001b[0;34m\u001b[0m\u001b[0;34m\u001b[0m\u001b[0m\n",
            "\u001b[0;31mIndexError\u001b[0m: tuple index out of range"
          ]
        }
      ]
    }
  ]
}